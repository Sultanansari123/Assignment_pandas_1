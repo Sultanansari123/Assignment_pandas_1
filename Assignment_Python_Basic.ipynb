{
 "cells": [
  {
   "cell_type": "markdown",
   "id": "6dafc6e5-0667-49d9-b1d0-72bdc248253f",
   "metadata": {},
   "source": [
    "# Python Basics"
   ]
  },
  {
   "cell_type": "code",
   "execution_count": 1,
   "id": "3343d683-6d0e-4a29-9486-5a8fee8622a5",
   "metadata": {},
   "outputs": [
    {
     "name": "stdout",
     "output_type": "stream",
     "text": [
      "0     4\n",
      "1     8\n",
      "2    15\n",
      "3    16\n",
      "4    23\n",
      "5    42\n",
      "dtype: int64\n"
     ]
    }
   ],
   "source": [
    "# Ans1-\n",
    "import pandas as pd\n",
    "\n",
    "# Creating a Pandas Series\n",
    "my_series = pd.Series([4, 8, 15, 16, 23, 42])\n",
    "\n",
    "# Printing the Pandas Series\n",
    "print(my_series)\n"
   ]
  },
  {
   "cell_type": "code",
   "execution_count": 2,
   "id": "45b4849c-d333-4bf6-8dfe-253ced6fa0bb",
   "metadata": {},
   "outputs": [
    {
     "name": "stdout",
     "output_type": "stream",
     "text": [
      "0     1\n",
      "1     2\n",
      "2     3\n",
      "3     4\n",
      "4     5\n",
      "5     6\n",
      "6     7\n",
      "7     8\n",
      "8     9\n",
      "9    10\n",
      "dtype: int64\n"
     ]
    }
   ],
   "source": [
    "# Ans2-\n",
    "# Creating a list with 10 elements\n",
    "my_list = [1, 2, 3, 4, 5, 6, 7, 8, 9, 10]\n",
    "\n",
    "# Creating a Pandas Series from the list\n",
    "my_series = pd.Series(my_list)\n",
    "\n",
    "# Printing the Pandas Series\n",
    "print(my_series)"
   ]
  },
  {
   "cell_type": "code",
   "execution_count": 4,
   "id": "b91bba33-c4bc-4b9d-a622-343b5f0aa188",
   "metadata": {},
   "outputs": [
    {
     "data": {
      "text/html": [
       "<div>\n",
       "<style scoped>\n",
       "    .dataframe tbody tr th:only-of-type {\n",
       "        vertical-align: middle;\n",
       "    }\n",
       "\n",
       "    .dataframe tbody tr th {\n",
       "        vertical-align: top;\n",
       "    }\n",
       "\n",
       "    .dataframe thead th {\n",
       "        text-align: right;\n",
       "    }\n",
       "</style>\n",
       "<table border=\"1\" class=\"dataframe\">\n",
       "  <thead>\n",
       "    <tr style=\"text-align: right;\">\n",
       "      <th></th>\n",
       "      <th>Name</th>\n",
       "      <th>Age</th>\n",
       "      <th>Gender</th>\n",
       "    </tr>\n",
       "  </thead>\n",
       "  <tbody>\n",
       "    <tr>\n",
       "      <th>0</th>\n",
       "      <td>Alice</td>\n",
       "      <td>25</td>\n",
       "      <td>female</td>\n",
       "    </tr>\n",
       "    <tr>\n",
       "      <th>1</th>\n",
       "      <td>Bob</td>\n",
       "      <td>30</td>\n",
       "      <td>male</td>\n",
       "    </tr>\n",
       "    <tr>\n",
       "      <th>2</th>\n",
       "      <td>Claire</td>\n",
       "      <td>27</td>\n",
       "      <td>female</td>\n",
       "    </tr>\n",
       "  </tbody>\n",
       "</table>\n",
       "</div>"
      ],
      "text/plain": [
       "     Name  Age  Gender\n",
       "0   Alice   25  female\n",
       "1     Bob   30    male\n",
       "2  Claire   27  female"
      ]
     },
     "execution_count": 4,
     "metadata": {},
     "output_type": "execute_result"
    }
   ],
   "source": [
    "#Ans3-Create a pandas dataFrame \n",
    "data={\n",
    "    'Name':['Alice','Bob','Claire'],\n",
    "    'Age':[25,30,27],\n",
    "   'Gender':['female','male','female']\n",
    "}\n",
    "df=pd.DataFrame(data)\n",
    "df"
   ]
  },
  {
   "cell_type": "markdown",
   "id": "f6847544-6561-4261-87b9-50d951c8e005",
   "metadata": {},
   "source": [
    "Ans4-\n",
    "Pandas DataFrame->A DataFrame in pandas is a two-dimensional, tabular data structure with labeled axes (rows and columns).And capable of holding various data types."
   ]
  },
  {
   "cell_type": "markdown",
   "id": "5faed314-b67f-43e4-bf69-57b9e16b9067",
   "metadata": {},
   "source": [
    "Pandas Series->A Pandas Series is a one-dimensional labeled array capable of holding data of various types,"
   ]
  },
  {
   "cell_type": "code",
   "execution_count": 6,
   "id": "6e2d9e0b-0fe6-477c-b381-942015e3524e",
   "metadata": {},
   "outputs": [
    {
     "name": "stdout",
     "output_type": "stream",
     "text": [
      "Pandas Series:\n",
      "0    1\n",
      "1    2\n",
      "2    3\n",
      "3    4\n",
      "dtype: int64\n"
     ]
    }
   ],
   "source": [
    "# Creating a Pandas Series\n",
    "series_data = pd.Series([1, 2, 3, 4])\n",
    "\n",
    "# Creating a DataFrame from a dictionary\n",
    "data = {'Column1': [1, 2, 3, 4],\n",
    "        'Column2': ['A', 'B', 'C', 'D']}\n",
    "df = pd.DataFrame(data)\n",
    "\n",
    "# Printing the Pandas Series and DataFrame\n",
    "print(\"Pandas Series:\")\n",
    "print(series_data)\n",
    "\n"
   ]
  },
  {
   "cell_type": "code",
   "execution_count": 8,
   "id": "99690073-f349-4dda-9c58-651dcb8eace1",
   "metadata": {},
   "outputs": [
    {
     "name": "stdout",
     "output_type": "stream",
     "text": [
      "\n",
      "DataFrame:\n"
     ]
    },
    {
     "data": {
      "text/html": [
       "<div>\n",
       "<style scoped>\n",
       "    .dataframe tbody tr th:only-of-type {\n",
       "        vertical-align: middle;\n",
       "    }\n",
       "\n",
       "    .dataframe tbody tr th {\n",
       "        vertical-align: top;\n",
       "    }\n",
       "\n",
       "    .dataframe thead th {\n",
       "        text-align: right;\n",
       "    }\n",
       "</style>\n",
       "<table border=\"1\" class=\"dataframe\">\n",
       "  <thead>\n",
       "    <tr style=\"text-align: right;\">\n",
       "      <th></th>\n",
       "      <th>Column1</th>\n",
       "      <th>Column2</th>\n",
       "    </tr>\n",
       "  </thead>\n",
       "  <tbody>\n",
       "    <tr>\n",
       "      <th>0</th>\n",
       "      <td>1</td>\n",
       "      <td>A</td>\n",
       "    </tr>\n",
       "    <tr>\n",
       "      <th>1</th>\n",
       "      <td>2</td>\n",
       "      <td>B</td>\n",
       "    </tr>\n",
       "    <tr>\n",
       "      <th>2</th>\n",
       "      <td>3</td>\n",
       "      <td>C</td>\n",
       "    </tr>\n",
       "    <tr>\n",
       "      <th>3</th>\n",
       "      <td>4</td>\n",
       "      <td>D</td>\n",
       "    </tr>\n",
       "  </tbody>\n",
       "</table>\n",
       "</div>"
      ],
      "text/plain": [
       "   Column1 Column2\n",
       "0        1       A\n",
       "1        2       B\n",
       "2        3       C\n",
       "3        4       D"
      ]
     },
     "execution_count": 8,
     "metadata": {},
     "output_type": "execute_result"
    }
   ],
   "source": [
    "print(\"\\nDataFrame:\")\n",
    "df"
   ]
  },
  {
   "cell_type": "markdown",
   "id": "1b99bbfb-6995-4315-a623-0c80466c3a86",
   "metadata": {},
   "source": [
    "Ans5-head() and tail(): Display the first or last n rows of a DataFrame."
   ]
  },
  {
   "cell_type": "markdown",
   "id": "51149121-2907-4ea8-af98-2b6420d0471c",
   "metadata": {},
   "source": [
    "df.head(3)  # Display the first 3 rows"
   ]
  },
  {
   "cell_type": "markdown",
   "id": "28ff10c7-8caa-4c6f-884d-3ceb95be998b",
   "metadata": {},
   "source": [
    "info(): Provides a concise summary of a DataFrame, including data types and missing values.\n",
    "df.info()"
   ]
  },
  {
   "cell_type": "markdown",
   "id": "39f7173f-e69d-469b-af23-ba9e0b653396",
   "metadata": {},
   "source": [
    "describe(): Generates descriptive statistics of the DataFrame, such as mean, min, max, etc.\n",
    "df.describe()"
   ]
  },
  {
   "cell_type": "markdown",
   "id": "22d25e39-034b-45e9-9e2b-e3718091e4ee",
   "metadata": {},
   "source": [
    "shape: Returns the dimensions (rows, columns) of the DataFrame.\n",
    "df.shape"
   ]
  },
  {
   "cell_type": "raw",
   "id": "f66ebeff-f061-49f8-829a-e2fca139ee9a",
   "metadata": {},
   "source": [
    "value_counts(): Count unique values in a column.\n",
    "df['Column'].value_counts()"
   ]
  },
  {
   "cell_type": "markdown",
   "id": "e57526cf-c732-4e4d-93aa-b91be8f0bd88",
   "metadata": {},
   "source": [
    "Ans6-Series: Mutable,\n",
    "DataFrame: Mutable,\n",
    "Panel: Mutable (Note: As of pandas version 0.25.0, the Panel class has been deprecated, and multi-dimensional data is generally handled using MultiIndex DataFrames.)"
   ]
  },
  {
   "cell_type": "code",
   "execution_count": 9,
   "id": "196131c3-40a4-40c9-9e68-199092ed959a",
   "metadata": {},
   "outputs": [
    {
     "data": {
      "text/html": [
       "<div>\n",
       "<style scoped>\n",
       "    .dataframe tbody tr th:only-of-type {\n",
       "        vertical-align: middle;\n",
       "    }\n",
       "\n",
       "    .dataframe tbody tr th {\n",
       "        vertical-align: top;\n",
       "    }\n",
       "\n",
       "    .dataframe thead th {\n",
       "        text-align: right;\n",
       "    }\n",
       "</style>\n",
       "<table border=\"1\" class=\"dataframe\">\n",
       "  <thead>\n",
       "    <tr style=\"text-align: right;\">\n",
       "      <th></th>\n",
       "      <th>Column1</th>\n",
       "      <th>Column2</th>\n",
       "      <th>Column3</th>\n",
       "    </tr>\n",
       "  </thead>\n",
       "  <tbody>\n",
       "    <tr>\n",
       "      <th>0</th>\n",
       "      <td>1</td>\n",
       "      <td>A</td>\n",
       "      <td>10.5</td>\n",
       "    </tr>\n",
       "    <tr>\n",
       "      <th>1</th>\n",
       "      <td>2</td>\n",
       "      <td>B</td>\n",
       "      <td>20.3</td>\n",
       "    </tr>\n",
       "    <tr>\n",
       "      <th>2</th>\n",
       "      <td>3</td>\n",
       "      <td>C</td>\n",
       "      <td>15.8</td>\n",
       "    </tr>\n",
       "  </tbody>\n",
       "</table>\n",
       "</div>"
      ],
      "text/plain": [
       "   Column1 Column2  Column3\n",
       "0        1       A     10.5\n",
       "1        2       B     20.3\n",
       "2        3       C     15.8"
      ]
     },
     "execution_count": 9,
     "metadata": {},
     "output_type": "execute_result"
    }
   ],
   "source": [
    "# Ans7-\n",
    "# Creating multiple Pandas Series\n",
    "s1 = pd.Series([1, 2, 3], name='Column1')\n",
    "s2 = pd.Series(['A', 'B', 'C'], name='Column2')\n",
    "s3 = pd.Series([10.5, 20.3, 15.8], name='Column3')\n",
    "\n",
    "# Creating a DataFrame using the Series\n",
    "df = pd.DataFrame({s1.name: s1, s2.name: s2, s3.name: s3})\n",
    "\n",
    "# Printing the DataFrame\n",
    "df"
   ]
  },
  {
   "cell_type": "markdown",
   "id": "c07a768e-e406-4486-af39-b0c268e4bf7e",
   "metadata": {},
   "source": [
    "In this example, s1, s2, and s3 are three Pandas Series. The pd.DataFrame() constructor is used to create a DataFrame by passing a dictionary where keys are column names, and values are the corresponding Series. The resulting DataFrame df looks like:"
   ]
  },
  {
   "cell_type": "code",
   "execution_count": null,
   "id": "a3422c96-c548-4aac-81ad-50bf2cf60359",
   "metadata": {},
   "outputs": [],
   "source": []
  }
 ],
 "metadata": {
  "kernelspec": {
   "display_name": "Python 3 (ipykernel)",
   "language": "python",
   "name": "python3"
  },
  "language_info": {
   "codemirror_mode": {
    "name": "ipython",
    "version": 3
   },
   "file_extension": ".py",
   "mimetype": "text/x-python",
   "name": "python",
   "nbconvert_exporter": "python",
   "pygments_lexer": "ipython3",
   "version": "3.10.8"
  }
 },
 "nbformat": 4,
 "nbformat_minor": 5
}
